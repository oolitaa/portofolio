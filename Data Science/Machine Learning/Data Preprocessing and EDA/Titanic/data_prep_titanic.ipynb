{
 "cells": [
  {
   "cell_type": "markdown",
   "id": "3bfcddf0-7c6b-419a-b280-1c280e97fe3c",
   "metadata": {},
   "source": [
    "# Import Data"
   ]
  },
  {
   "cell_type": "code",
   "execution_count": 113,
   "id": "2f1c1d38-41fe-4182-bf07-1de81043152b",
   "metadata": {},
   "outputs": [],
   "source": [
    "import pandas as pd \n",
    "import numpy as np\n",
    "import matplotlib.pyplot as plt\n",
    "import seaborn as sns\n",
    "import missingno as msno\n",
    "\n",
    "from sklearn.preprocessing import MinMaxScaler"
   ]
  },
  {
   "cell_type": "code",
   "execution_count": 115,
   "id": "5c2d230d-82cc-4831-af33-17d3506b66fc",
   "metadata": {},
   "outputs": [
    {
     "data": {
      "text/html": [
       "<div>\n",
       "<style scoped>\n",
       "    .dataframe tbody tr th:only-of-type {\n",
       "        vertical-align: middle;\n",
       "    }\n",
       "\n",
       "    .dataframe tbody tr th {\n",
       "        vertical-align: top;\n",
       "    }\n",
       "\n",
       "    .dataframe thead th {\n",
       "        text-align: right;\n",
       "    }\n",
       "</style>\n",
       "<table border=\"1\" class=\"dataframe\">\n",
       "  <thead>\n",
       "    <tr style=\"text-align: right;\">\n",
       "      <th></th>\n",
       "      <th>1</th>\n",
       "      <th>2</th>\n",
       "      <th>3</th>\n",
       "      <th>4</th>\n",
       "      <th>5</th>\n",
       "      <th>6</th>\n",
       "      <th>7</th>\n",
       "      <th>8</th>\n",
       "      <th>9</th>\n",
       "      <th>10</th>\n",
       "    </tr>\n",
       "  </thead>\n",
       "  <tbody>\n",
       "    <tr>\n",
       "      <th>0</th>\n",
       "      <td>sn</td>\n",
       "      <td>pclass</td>\n",
       "      <td>survived</td>\n",
       "      <td>NaN</td>\n",
       "      <td>gender</td>\n",
       "      <td>age</td>\n",
       "      <td>family</td>\n",
       "      <td>fare</td>\n",
       "      <td>embarked</td>\n",
       "      <td>date</td>\n",
       "    </tr>\n",
       "    <tr>\n",
       "      <th>1</th>\n",
       "      <td>1</td>\n",
       "      <td>3</td>\n",
       "      <td>0</td>\n",
       "      <td>Mr. Anthony</td>\n",
       "      <td>male</td>\n",
       "      <td>42</td>\n",
       "      <td>0</td>\n",
       "      <td>7.55</td>\n",
       "      <td>NaN</td>\n",
       "      <td>01-Jan-90</td>\n",
       "    </tr>\n",
       "    <tr>\n",
       "      <th>2</th>\n",
       "      <td>1</td>\n",
       "      <td>3</td>\n",
       "      <td>0</td>\n",
       "      <td>Mr. Anthony</td>\n",
       "      <td>male</td>\n",
       "      <td>42</td>\n",
       "      <td>0</td>\n",
       "      <td>7.55</td>\n",
       "      <td>NaN</td>\n",
       "      <td>01-Jan-90</td>\n",
       "    </tr>\n",
       "    <tr>\n",
       "      <th>3</th>\n",
       "      <td>2</td>\n",
       "      <td>3</td>\n",
       "      <td>0</td>\n",
       "      <td>Master. Eugene Joseph</td>\n",
       "      <td>male</td>\n",
       "      <td>?</td>\n",
       "      <td>2</td>\n",
       "      <td>20.25</td>\n",
       "      <td>S</td>\n",
       "      <td>02-Jan-90</td>\n",
       "    </tr>\n",
       "    <tr>\n",
       "      <th>4</th>\n",
       "      <td>3</td>\n",
       "      <td>2</td>\n",
       "      <td>0</td>\n",
       "      <td>Abbott, Mr. Rossmore Edward</td>\n",
       "      <td>NaN</td>\n",
       "      <td>NaN</td>\n",
       "      <td>2</td>\n",
       "      <td>**</td>\n",
       "      <td>S</td>\n",
       "      <td>03-Jan-90</td>\n",
       "    </tr>\n",
       "  </tbody>\n",
       "</table>\n",
       "</div>"
      ],
      "text/plain": [
       "    1       2         3                            4       5    6       7  \\\n",
       "0  sn  pclass  survived                          NaN  gender  age  family   \n",
       "1   1       3         0                  Mr. Anthony    male   42       0   \n",
       "2   1       3         0                  Mr. Anthony    male   42       0   \n",
       "3   2       3         0        Master. Eugene Joseph    male    ?       2   \n",
       "4   3       2         0  Abbott, Mr. Rossmore Edward     NaN  NaN       2   \n",
       "\n",
       "       8         9         10  \n",
       "0   fare  embarked       date  \n",
       "1   7.55       NaN  01-Jan-90  \n",
       "2   7.55       NaN  01-Jan-90  \n",
       "3  20.25         S  02-Jan-90  \n",
       "4     **         S  03-Jan-90  "
      ]
     },
     "execution_count": 115,
     "metadata": {},
     "output_type": "execute_result"
    }
   ],
   "source": [
    "titanic = pd.read_csv('https://github.com/YBIFoundation/Dataset/raw/main/TheTitanic.csv')\n",
    "titanic.head()"
   ]
  },
  {
   "cell_type": "markdown",
   "id": "fa0893e1-2d64-4a71-859e-51d7548480e3",
   "metadata": {},
   "source": [
    "## Data Preprocessing "
   ]
  },
  {
   "cell_type": "markdown",
   "id": "f16576b5-b5a8-4d8b-bbe6-36ddf14ec313",
   "metadata": {},
   "source": [
    "### Create header "
   ]
  },
  {
   "cell_type": "code",
   "execution_count": 11,
   "id": "910c99e0-ba9a-4cbb-8714-c22e91818f74",
   "metadata": {},
   "outputs": [
    {
     "data": {
      "text/html": [
       "<div>\n",
       "<style scoped>\n",
       "    .dataframe tbody tr th:only-of-type {\n",
       "        vertical-align: middle;\n",
       "    }\n",
       "\n",
       "    .dataframe tbody tr th {\n",
       "        vertical-align: top;\n",
       "    }\n",
       "\n",
       "    .dataframe thead th {\n",
       "        text-align: right;\n",
       "    }\n",
       "</style>\n",
       "<table border=\"1\" class=\"dataframe\">\n",
       "  <thead>\n",
       "    <tr style=\"text-align: right;\">\n",
       "      <th></th>\n",
       "      <th>sn</th>\n",
       "      <th>pclass</th>\n",
       "      <th>survived</th>\n",
       "      <th>NaN</th>\n",
       "      <th>gender</th>\n",
       "      <th>age</th>\n",
       "      <th>family</th>\n",
       "      <th>fare</th>\n",
       "      <th>embarked</th>\n",
       "      <th>date</th>\n",
       "    </tr>\n",
       "  </thead>\n",
       "  <tbody>\n",
       "    <tr>\n",
       "      <th>0</th>\n",
       "      <td>sn</td>\n",
       "      <td>pclass</td>\n",
       "      <td>survived</td>\n",
       "      <td>NaN</td>\n",
       "      <td>gender</td>\n",
       "      <td>age</td>\n",
       "      <td>family</td>\n",
       "      <td>fare</td>\n",
       "      <td>embarked</td>\n",
       "      <td>date</td>\n",
       "    </tr>\n",
       "    <tr>\n",
       "      <th>1</th>\n",
       "      <td>1</td>\n",
       "      <td>3</td>\n",
       "      <td>0</td>\n",
       "      <td>Mr. Anthony</td>\n",
       "      <td>male</td>\n",
       "      <td>42</td>\n",
       "      <td>0</td>\n",
       "      <td>7.55</td>\n",
       "      <td>NaN</td>\n",
       "      <td>01-Jan-90</td>\n",
       "    </tr>\n",
       "    <tr>\n",
       "      <th>2</th>\n",
       "      <td>1</td>\n",
       "      <td>3</td>\n",
       "      <td>0</td>\n",
       "      <td>Mr. Anthony</td>\n",
       "      <td>male</td>\n",
       "      <td>42</td>\n",
       "      <td>0</td>\n",
       "      <td>7.55</td>\n",
       "      <td>NaN</td>\n",
       "      <td>01-Jan-90</td>\n",
       "    </tr>\n",
       "    <tr>\n",
       "      <th>3</th>\n",
       "      <td>2</td>\n",
       "      <td>3</td>\n",
       "      <td>0</td>\n",
       "      <td>Master. Eugene Joseph</td>\n",
       "      <td>male</td>\n",
       "      <td>?</td>\n",
       "      <td>2</td>\n",
       "      <td>20.25</td>\n",
       "      <td>S</td>\n",
       "      <td>02-Jan-90</td>\n",
       "    </tr>\n",
       "    <tr>\n",
       "      <th>4</th>\n",
       "      <td>3</td>\n",
       "      <td>2</td>\n",
       "      <td>0</td>\n",
       "      <td>Abbott, Mr. Rossmore Edward</td>\n",
       "      <td>NaN</td>\n",
       "      <td>NaN</td>\n",
       "      <td>2</td>\n",
       "      <td>**</td>\n",
       "      <td>S</td>\n",
       "      <td>03-Jan-90</td>\n",
       "    </tr>\n",
       "  </tbody>\n",
       "</table>\n",
       "</div>"
      ],
      "text/plain": [
       "0  sn  pclass  survived                          NaN  gender  age  family  \\\n",
       "0  sn  pclass  survived                          NaN  gender  age  family   \n",
       "1   1       3         0                  Mr. Anthony    male   42       0   \n",
       "2   1       3         0                  Mr. Anthony    male   42       0   \n",
       "3   2       3         0        Master. Eugene Joseph    male    ?       2   \n",
       "4   3       2         0  Abbott, Mr. Rossmore Edward     NaN  NaN       2   \n",
       "\n",
       "0   fare  embarked       date  \n",
       "0   fare  embarked       date  \n",
       "1   7.55       NaN  01-Jan-90  \n",
       "2   7.55       NaN  01-Jan-90  \n",
       "3  20.25         S  02-Jan-90  \n",
       "4     **         S  03-Jan-90  "
      ]
     },
     "execution_count": 11,
     "metadata": {},
     "output_type": "execute_result"
    }
   ],
   "source": [
    "titanic.columns = titanic.iloc[0]\n",
    "titanic.head()"
   ]
  },
  {
   "cell_type": "code",
   "execution_count": 13,
   "id": "2dcc04e7-6c92-45c5-b33a-f7ebb44b6404",
   "metadata": {},
   "outputs": [
    {
     "data": {
      "text/html": [
       "<div>\n",
       "<style scoped>\n",
       "    .dataframe tbody tr th:only-of-type {\n",
       "        vertical-align: middle;\n",
       "    }\n",
       "\n",
       "    .dataframe tbody tr th {\n",
       "        vertical-align: top;\n",
       "    }\n",
       "\n",
       "    .dataframe thead th {\n",
       "        text-align: right;\n",
       "    }\n",
       "</style>\n",
       "<table border=\"1\" class=\"dataframe\">\n",
       "  <thead>\n",
       "    <tr style=\"text-align: right;\">\n",
       "      <th></th>\n",
       "      <th>sn</th>\n",
       "      <th>pclass</th>\n",
       "      <th>survived</th>\n",
       "      <th>NaN</th>\n",
       "      <th>gender</th>\n",
       "      <th>age</th>\n",
       "      <th>family</th>\n",
       "      <th>fare</th>\n",
       "      <th>embarked</th>\n",
       "      <th>date</th>\n",
       "    </tr>\n",
       "  </thead>\n",
       "  <tbody>\n",
       "    <tr>\n",
       "      <th>0</th>\n",
       "      <td>1</td>\n",
       "      <td>3</td>\n",
       "      <td>0</td>\n",
       "      <td>Mr. Anthony</td>\n",
       "      <td>male</td>\n",
       "      <td>42</td>\n",
       "      <td>0</td>\n",
       "      <td>7.55</td>\n",
       "      <td>NaN</td>\n",
       "      <td>01-Jan-90</td>\n",
       "    </tr>\n",
       "    <tr>\n",
       "      <th>1</th>\n",
       "      <td>1</td>\n",
       "      <td>3</td>\n",
       "      <td>0</td>\n",
       "      <td>Mr. Anthony</td>\n",
       "      <td>male</td>\n",
       "      <td>42</td>\n",
       "      <td>0</td>\n",
       "      <td>7.55</td>\n",
       "      <td>NaN</td>\n",
       "      <td>01-Jan-90</td>\n",
       "    </tr>\n",
       "    <tr>\n",
       "      <th>2</th>\n",
       "      <td>2</td>\n",
       "      <td>3</td>\n",
       "      <td>0</td>\n",
       "      <td>Master. Eugene Joseph</td>\n",
       "      <td>male</td>\n",
       "      <td>?</td>\n",
       "      <td>2</td>\n",
       "      <td>20.25</td>\n",
       "      <td>S</td>\n",
       "      <td>02-Jan-90</td>\n",
       "    </tr>\n",
       "    <tr>\n",
       "      <th>3</th>\n",
       "      <td>3</td>\n",
       "      <td>2</td>\n",
       "      <td>0</td>\n",
       "      <td>Abbott, Mr. Rossmore Edward</td>\n",
       "      <td>NaN</td>\n",
       "      <td>NaN</td>\n",
       "      <td>2</td>\n",
       "      <td>**</td>\n",
       "      <td>S</td>\n",
       "      <td>03-Jan-90</td>\n",
       "    </tr>\n",
       "    <tr>\n",
       "      <th>4</th>\n",
       "      <td>4</td>\n",
       "      <td>3</td>\n",
       "      <td>1</td>\n",
       "      <td>Abbott, Mr. Rossmore Edward</td>\n",
       "      <td>female</td>\n",
       "      <td>35</td>\n",
       "      <td>2</td>\n",
       "      <td>20.25</td>\n",
       "      <td>S</td>\n",
       "      <td>04-Jan-90</td>\n",
       "    </tr>\n",
       "  </tbody>\n",
       "</table>\n",
       "</div>"
      ],
      "text/plain": [
       "0 sn pclass survived                          NaN  gender  age family   fare  \\\n",
       "0  1      3        0                  Mr. Anthony    male   42      0   7.55   \n",
       "1  1      3        0                  Mr. Anthony    male   42      0   7.55   \n",
       "2  2      3        0        Master. Eugene Joseph    male    ?      2  20.25   \n",
       "3  3      2        0  Abbott, Mr. Rossmore Edward     NaN  NaN      2     **   \n",
       "4  4      3        1  Abbott, Mr. Rossmore Edward  female   35      2  20.25   \n",
       "\n",
       "0 embarked       date  \n",
       "0      NaN  01-Jan-90  \n",
       "1      NaN  01-Jan-90  \n",
       "2        S  02-Jan-90  \n",
       "3        S  03-Jan-90  \n",
       "4        S  04-Jan-90  "
      ]
     },
     "execution_count": 13,
     "metadata": {},
     "output_type": "execute_result"
    }
   ],
   "source": [
    "titanic = titanic[1:].reset_index(drop=True)\n",
    "titanic.head()"
   ]
  },
  {
   "cell_type": "code",
   "execution_count": 15,
   "id": "e152806c-80cf-4c12-b543-a07d2e562590",
   "metadata": {},
   "outputs": [
    {
     "data": {
      "text/html": [
       "<div>\n",
       "<style scoped>\n",
       "    .dataframe tbody tr th:only-of-type {\n",
       "        vertical-align: middle;\n",
       "    }\n",
       "\n",
       "    .dataframe tbody tr th {\n",
       "        vertical-align: top;\n",
       "    }\n",
       "\n",
       "    .dataframe thead th {\n",
       "        text-align: right;\n",
       "    }\n",
       "</style>\n",
       "<table border=\"1\" class=\"dataframe\">\n",
       "  <thead>\n",
       "    <tr style=\"text-align: right;\">\n",
       "      <th></th>\n",
       "      <th>sn</th>\n",
       "      <th>pclass</th>\n",
       "      <th>survived</th>\n",
       "      <th>name</th>\n",
       "      <th>gender</th>\n",
       "      <th>age</th>\n",
       "      <th>family</th>\n",
       "      <th>fare</th>\n",
       "      <th>embarked</th>\n",
       "      <th>date</th>\n",
       "    </tr>\n",
       "  </thead>\n",
       "  <tbody>\n",
       "    <tr>\n",
       "      <th>0</th>\n",
       "      <td>1</td>\n",
       "      <td>3</td>\n",
       "      <td>0</td>\n",
       "      <td>Mr. Anthony</td>\n",
       "      <td>male</td>\n",
       "      <td>42</td>\n",
       "      <td>0</td>\n",
       "      <td>7.55</td>\n",
       "      <td>NaN</td>\n",
       "      <td>01-Jan-90</td>\n",
       "    </tr>\n",
       "    <tr>\n",
       "      <th>1</th>\n",
       "      <td>1</td>\n",
       "      <td>3</td>\n",
       "      <td>0</td>\n",
       "      <td>Mr. Anthony</td>\n",
       "      <td>male</td>\n",
       "      <td>42</td>\n",
       "      <td>0</td>\n",
       "      <td>7.55</td>\n",
       "      <td>NaN</td>\n",
       "      <td>01-Jan-90</td>\n",
       "    </tr>\n",
       "    <tr>\n",
       "      <th>2</th>\n",
       "      <td>2</td>\n",
       "      <td>3</td>\n",
       "      <td>0</td>\n",
       "      <td>Master. Eugene Joseph</td>\n",
       "      <td>male</td>\n",
       "      <td>?</td>\n",
       "      <td>2</td>\n",
       "      <td>20.25</td>\n",
       "      <td>S</td>\n",
       "      <td>02-Jan-90</td>\n",
       "    </tr>\n",
       "    <tr>\n",
       "      <th>3</th>\n",
       "      <td>3</td>\n",
       "      <td>2</td>\n",
       "      <td>0</td>\n",
       "      <td>Abbott, Mr. Rossmore Edward</td>\n",
       "      <td>NaN</td>\n",
       "      <td>NaN</td>\n",
       "      <td>2</td>\n",
       "      <td>**</td>\n",
       "      <td>S</td>\n",
       "      <td>03-Jan-90</td>\n",
       "    </tr>\n",
       "    <tr>\n",
       "      <th>4</th>\n",
       "      <td>4</td>\n",
       "      <td>3</td>\n",
       "      <td>1</td>\n",
       "      <td>Abbott, Mr. Rossmore Edward</td>\n",
       "      <td>female</td>\n",
       "      <td>35</td>\n",
       "      <td>2</td>\n",
       "      <td>20.25</td>\n",
       "      <td>S</td>\n",
       "      <td>04-Jan-90</td>\n",
       "    </tr>\n",
       "  </tbody>\n",
       "</table>\n",
       "</div>"
      ],
      "text/plain": [
       "0 sn pclass survived                         name  gender  age family   fare  \\\n",
       "0  1      3        0                  Mr. Anthony    male   42      0   7.55   \n",
       "1  1      3        0                  Mr. Anthony    male   42      0   7.55   \n",
       "2  2      3        0        Master. Eugene Joseph    male    ?      2  20.25   \n",
       "3  3      2        0  Abbott, Mr. Rossmore Edward     NaN  NaN      2     **   \n",
       "4  4      3        1  Abbott, Mr. Rossmore Edward  female   35      2  20.25   \n",
       "\n",
       "0 embarked       date  \n",
       "0      NaN  01-Jan-90  \n",
       "1      NaN  01-Jan-90  \n",
       "2        S  02-Jan-90  \n",
       "3        S  03-Jan-90  \n",
       "4        S  04-Jan-90  "
      ]
     },
     "execution_count": 15,
     "metadata": {},
     "output_type": "execute_result"
    }
   ],
   "source": [
    "titanic.rename(columns={titanic.columns[3]:'name'}, inplace=True)\n",
    "titanic.head()"
   ]
  },
  {
   "cell_type": "markdown",
   "id": "7a83eb22-1091-4574-9501-08ac52821e45",
   "metadata": {},
   "source": [
    "### Split column name"
   ]
  },
  {
   "cell_type": "code",
   "execution_count": 18,
   "id": "cbc859e8-c397-479a-a5d9-1842421f935d",
   "metadata": {},
   "outputs": [
    {
     "data": {
      "text/html": [
       "<div>\n",
       "<style scoped>\n",
       "    .dataframe tbody tr th:only-of-type {\n",
       "        vertical-align: middle;\n",
       "    }\n",
       "\n",
       "    .dataframe tbody tr th {\n",
       "        vertical-align: top;\n",
       "    }\n",
       "\n",
       "    .dataframe thead th {\n",
       "        text-align: right;\n",
       "    }\n",
       "</style>\n",
       "<table border=\"1\" class=\"dataframe\">\n",
       "  <thead>\n",
       "    <tr style=\"text-align: right;\">\n",
       "      <th></th>\n",
       "      <th>sn</th>\n",
       "      <th>pclass</th>\n",
       "      <th>survived</th>\n",
       "      <th>name</th>\n",
       "      <th>gender</th>\n",
       "      <th>age</th>\n",
       "      <th>family</th>\n",
       "      <th>fare</th>\n",
       "      <th>embarked</th>\n",
       "      <th>date</th>\n",
       "      <th>first_person</th>\n",
       "      <th>second_person</th>\n",
       "    </tr>\n",
       "  </thead>\n",
       "  <tbody>\n",
       "    <tr>\n",
       "      <th>0</th>\n",
       "      <td>1</td>\n",
       "      <td>3</td>\n",
       "      <td>0</td>\n",
       "      <td>Mr. Anthony</td>\n",
       "      <td>male</td>\n",
       "      <td>42</td>\n",
       "      <td>0</td>\n",
       "      <td>7.55</td>\n",
       "      <td>NaN</td>\n",
       "      <td>01-Jan-90</td>\n",
       "      <td>Mr. Anthony</td>\n",
       "      <td>None</td>\n",
       "    </tr>\n",
       "    <tr>\n",
       "      <th>1</th>\n",
       "      <td>1</td>\n",
       "      <td>3</td>\n",
       "      <td>0</td>\n",
       "      <td>Mr. Anthony</td>\n",
       "      <td>male</td>\n",
       "      <td>42</td>\n",
       "      <td>0</td>\n",
       "      <td>7.55</td>\n",
       "      <td>NaN</td>\n",
       "      <td>01-Jan-90</td>\n",
       "      <td>Mr. Anthony</td>\n",
       "      <td>None</td>\n",
       "    </tr>\n",
       "    <tr>\n",
       "      <th>2</th>\n",
       "      <td>2</td>\n",
       "      <td>3</td>\n",
       "      <td>0</td>\n",
       "      <td>Master. Eugene Joseph</td>\n",
       "      <td>male</td>\n",
       "      <td>?</td>\n",
       "      <td>2</td>\n",
       "      <td>20.25</td>\n",
       "      <td>S</td>\n",
       "      <td>02-Jan-90</td>\n",
       "      <td>Master. Eugene Joseph</td>\n",
       "      <td>None</td>\n",
       "    </tr>\n",
       "    <tr>\n",
       "      <th>3</th>\n",
       "      <td>3</td>\n",
       "      <td>2</td>\n",
       "      <td>0</td>\n",
       "      <td>Abbott, Mr. Rossmore Edward</td>\n",
       "      <td>NaN</td>\n",
       "      <td>NaN</td>\n",
       "      <td>2</td>\n",
       "      <td>**</td>\n",
       "      <td>S</td>\n",
       "      <td>03-Jan-90</td>\n",
       "      <td>Abbott</td>\n",
       "      <td>Mr. Rossmore Edward</td>\n",
       "    </tr>\n",
       "    <tr>\n",
       "      <th>4</th>\n",
       "      <td>4</td>\n",
       "      <td>3</td>\n",
       "      <td>1</td>\n",
       "      <td>Abbott, Mr. Rossmore Edward</td>\n",
       "      <td>female</td>\n",
       "      <td>35</td>\n",
       "      <td>2</td>\n",
       "      <td>20.25</td>\n",
       "      <td>S</td>\n",
       "      <td>04-Jan-90</td>\n",
       "      <td>Abbott</td>\n",
       "      <td>Mr. Rossmore Edward</td>\n",
       "    </tr>\n",
       "  </tbody>\n",
       "</table>\n",
       "</div>"
      ],
      "text/plain": [
       "0 sn pclass survived                         name  gender  age family   fare  \\\n",
       "0  1      3        0                  Mr. Anthony    male   42      0   7.55   \n",
       "1  1      3        0                  Mr. Anthony    male   42      0   7.55   \n",
       "2  2      3        0        Master. Eugene Joseph    male    ?      2  20.25   \n",
       "3  3      2        0  Abbott, Mr. Rossmore Edward     NaN  NaN      2     **   \n",
       "4  4      3        1  Abbott, Mr. Rossmore Edward  female   35      2  20.25   \n",
       "\n",
       "0 embarked       date           first_person        second_person  \n",
       "0      NaN  01-Jan-90            Mr. Anthony                 None  \n",
       "1      NaN  01-Jan-90            Mr. Anthony                 None  \n",
       "2        S  02-Jan-90  Master. Eugene Joseph                 None  \n",
       "3        S  03-Jan-90                 Abbott  Mr. Rossmore Edward  \n",
       "4        S  04-Jan-90                 Abbott  Mr. Rossmore Edward  "
      ]
     },
     "execution_count": 18,
     "metadata": {},
     "output_type": "execute_result"
    }
   ],
   "source": [
    "titanic[['first_person', 'second_person']] = titanic['name'].str.split(\", \", expand=True)\n",
    "titanic.head()"
   ]
  },
  {
   "cell_type": "markdown",
   "id": "4277d839-2c6c-456b-bf5c-b5aa13b71698",
   "metadata": {},
   "source": [
    "## Exploratory Data Analysis (EDA)"
   ]
  },
  {
   "cell_type": "markdown",
   "id": "60d99310-4f94-486a-b439-ad83c99b5401",
   "metadata": {},
   "source": [
    "### Check Missing Value"
   ]
  },
  {
   "cell_type": "code",
   "execution_count": 22,
   "id": "be7401dc-5f67-42b6-86f9-590d6b5bb374",
   "metadata": {},
   "outputs": [
    {
     "data": {
      "image/png": "[encoded data removed]",
      "text/plain": [
       "<Figure size 1000x300 with 2 Axes>"
      ]
     },
     "metadata": {},
     "output_type": "display_data"
    }
   ],
   "source": [
    "msno.matrix(titanic, figsize=(10,3), fontsize=12, color=(1, 0.38, 0.27));\n",
    "plt.show()"
   ]
  },
  {
   "cell_type": "code",
   "execution_count": 24,
   "id": "319d49cb-e0d1-423a-8d08-569120a1d9e8",
   "metadata": {},
   "outputs": [
    {
     "data": {
      "image/png": "[encoded data removed]",
      "text/plain": [
       "<Figure size 800x300 with 3 Axes>"
      ]
     },
     "metadata": {},
     "output_type": "display_data"
    }
   ],
   "source": [
    "msno.bar(titanic, color=\"orange\", sort=\"ascending\", figsize=(8,3), fontsize=12);"
   ]
  },
  {
   "cell_type": "code",
   "execution_count": 26,
   "id": "ba7a0bae-f375-4c72-b073-30d3b6168fc5",
   "metadata": {},
   "outputs": [
    {
     "data": {
      "text/plain": [
       "0\n",
       "gender             1\n",
       "family             2\n",
       "fare               2\n",
       "second_person      4\n",
       "embarked           6\n",
       "age              257\n",
       "dtype: int64"
      ]
     },
     "execution_count": 26,
     "metadata": {},
     "output_type": "execute_result"
    }
   ],
   "source": [
    "missing_values = titanic.isnull().sum().sort_values()[titanic.isnull().sum().sort_values(ascending=False) !=0]\n",
    "missing_values.head(10)"
   ]
  },
  {
   "cell_type": "markdown",
   "id": "21e3818b-58bb-4288-8114-270a99208394",
   "metadata": {},
   "source": [
    "#### Gender"
   ]
  },
  {
   "cell_type": "code",
   "execution_count": 29,
   "id": "67ff09a2-394b-46a1-b148-134be463a59c",
   "metadata": {},
   "outputs": [
    {
     "data": {
      "text/plain": [
       "gender\n",
       "male      835\n",
       "female    465\n",
       "NaN         1\n",
       "Name: count, dtype: int64"
      ]
     },
     "execution_count": 29,
     "metadata": {},
     "output_type": "execute_result"
    }
   ],
   "source": [
    "titanic.gender.value_counts(dropna=False)"
   ]
  },
  {
   "cell_type": "code",
   "execution_count": 31,
   "id": "ab009ba4-b895-412c-8e85-98395cbda0ac",
   "metadata": {},
   "outputs": [
    {
     "data": {
      "text/html": [
       "<div>\n",
       "<style scoped>\n",
       "    .dataframe tbody tr th:only-of-type {\n",
       "        vertical-align: middle;\n",
       "    }\n",
       "\n",
       "    .dataframe tbody tr th {\n",
       "        vertical-align: top;\n",
       "    }\n",
       "\n",
       "    .dataframe thead th {\n",
       "        text-align: right;\n",
       "    }\n",
       "</style>\n",
       "<table border=\"1\" class=\"dataframe\">\n",
       "  <thead>\n",
       "    <tr style=\"text-align: right;\">\n",
       "      <th></th>\n",
       "      <th>sn</th>\n",
       "      <th>pclass</th>\n",
       "      <th>survived</th>\n",
       "      <th>name</th>\n",
       "      <th>gender</th>\n",
       "      <th>age</th>\n",
       "      <th>family</th>\n",
       "      <th>fare</th>\n",
       "      <th>embarked</th>\n",
       "      <th>date</th>\n",
       "      <th>first_person</th>\n",
       "      <th>second_person</th>\n",
       "    </tr>\n",
       "  </thead>\n",
       "  <tbody>\n",
       "    <tr>\n",
       "      <th>3</th>\n",
       "      <td>3</td>\n",
       "      <td>2</td>\n",
       "      <td>0</td>\n",
       "      <td>Abbott, Mr. Rossmore Edward</td>\n",
       "      <td>NaN</td>\n",
       "      <td>NaN</td>\n",
       "      <td>2</td>\n",
       "      <td>**</td>\n",
       "      <td>S</td>\n",
       "      <td>03-Jan-90</td>\n",
       "      <td>Abbott</td>\n",
       "      <td>Mr. Rossmore Edward</td>\n",
       "    </tr>\n",
       "  </tbody>\n",
       "</table>\n",
       "</div>"
      ],
      "text/plain": [
       "0 sn pclass survived                         name gender  age family fare  \\\n",
       "3  3      2        0  Abbott, Mr. Rossmore Edward    NaN  NaN      2   **   \n",
       "\n",
       "0 embarked       date first_person        second_person  \n",
       "3        S  03-Jan-90       Abbott  Mr. Rossmore Edward  "
      ]
     },
     "execution_count": 31,
     "metadata": {},
     "output_type": "execute_result"
    }
   ],
   "source": [
    "titanic[titanic[\"gender\"].isna()]"
   ]
  },
  {
   "cell_type": "code",
   "execution_count": 33,
   "id": "ad15398c-d76d-46f4-9385-186ed56cef9f",
   "metadata": {},
   "outputs": [
    {
     "data": {
      "text/html": [
       "<div>\n",
       "<style scoped>\n",
       "    .dataframe tbody tr th:only-of-type {\n",
       "        vertical-align: middle;\n",
       "    }\n",
       "\n",
       "    .dataframe tbody tr th {\n",
       "        vertical-align: top;\n",
       "    }\n",
       "\n",
       "    .dataframe thead th {\n",
       "        text-align: right;\n",
       "    }\n",
       "</style>\n",
       "<table border=\"1\" class=\"dataframe\">\n",
       "  <thead>\n",
       "    <tr style=\"text-align: right;\">\n",
       "      <th></th>\n",
       "      <th>sn</th>\n",
       "      <th>pclass</th>\n",
       "      <th>survived</th>\n",
       "      <th>name</th>\n",
       "      <th>gender</th>\n",
       "      <th>age</th>\n",
       "      <th>family</th>\n",
       "      <th>fare</th>\n",
       "      <th>embarked</th>\n",
       "      <th>date</th>\n",
       "      <th>first_person</th>\n",
       "      <th>second_person</th>\n",
       "    </tr>\n",
       "  </thead>\n",
       "  <tbody>\n",
       "    <tr>\n",
       "      <th>3</th>\n",
       "      <td>3</td>\n",
       "      <td>2</td>\n",
       "      <td>0</td>\n",
       "      <td>Abbott, Mr. Rossmore Edward</td>\n",
       "      <td>NaN</td>\n",
       "      <td>NaN</td>\n",
       "      <td>2</td>\n",
       "      <td>**</td>\n",
       "      <td>S</td>\n",
       "      <td>03-Jan-90</td>\n",
       "      <td>Abbott</td>\n",
       "      <td>Mr. Rossmore Edward</td>\n",
       "    </tr>\n",
       "    <tr>\n",
       "      <th>4</th>\n",
       "      <td>4</td>\n",
       "      <td>3</td>\n",
       "      <td>1</td>\n",
       "      <td>Abbott, Mr. Rossmore Edward</td>\n",
       "      <td>female</td>\n",
       "      <td>35</td>\n",
       "      <td>2</td>\n",
       "      <td>20.25</td>\n",
       "      <td>S</td>\n",
       "      <td>04-Jan-90</td>\n",
       "      <td>Abbott</td>\n",
       "      <td>Mr. Rossmore Edward</td>\n",
       "    </tr>\n",
       "  </tbody>\n",
       "</table>\n",
       "</div>"
      ],
      "text/plain": [
       "0 sn pclass survived                         name  gender  age family   fare  \\\n",
       "3  3      2        0  Abbott, Mr. Rossmore Edward     NaN  NaN      2     **   \n",
       "4  4      3        1  Abbott, Mr. Rossmore Edward  female   35      2  20.25   \n",
       "\n",
       "0 embarked       date first_person        second_person  \n",
       "3        S  03-Jan-90       Abbott  Mr. Rossmore Edward  \n",
       "4        S  04-Jan-90       Abbott  Mr. Rossmore Edward  "
      ]
     },
     "execution_count": 33,
     "metadata": {},
     "output_type": "execute_result"
    }
   ],
   "source": [
    "titanic[titanic[\"name\"] == 'Abbott, Mr. Rossmore Edward']"
   ]
  },
  {
   "cell_type": "code",
   "execution_count": 35,
   "id": "ec2be1dc-aa16-45e9-8eb7-42454dd1b009",
   "metadata": {},
   "outputs": [],
   "source": [
    "titanic = titanic.dropna(subset=[\"gender\"])"
   ]
  },
  {
   "cell_type": "code",
   "execution_count": 37,
   "id": "db0ef730-b00e-4626-8dc8-bb5dfd0d9c7e",
   "metadata": {},
   "outputs": [
    {
     "data": {
      "text/plain": [
       "gender\n",
       "male      835\n",
       "female    465\n",
       "Name: count, dtype: int64"
      ]
     },
     "execution_count": 37,
     "metadata": {},
     "output_type": "execute_result"
    }
   ],
   "source": [
    "titanic.gender.value_counts(dropna=False)"
   ]
  },
  {
   "cell_type": "code",
   "execution_count": 39,
   "id": "625cfd65-de75-4fc4-b742-3f7ca3e04187",
   "metadata": {},
   "outputs": [],
   "source": [
    "gender_counts = titanic[\"gender\"].value_counts()"
   ]
  },
  {
   "cell_type": "code",
   "execution_count": 41,
   "id": "83b81747-cdf9-402b-b83f-3f745ec59d28",
   "metadata": {},
   "outputs": [
    {
     "data": {
      "image/png": "[encoded data removed]",
      "text/plain": [
       "<Figure size 400x400 with 1 Axes>"
      ]
     },
     "metadata": {},
     "output_type": "display_data"
    }
   ],
   "source": [
    "plt.figure(figsize=(4, 4))\n",
    "colors = sns.color_palette(\"Set1\") \n",
    "plt.pie(gender_counts, labels=gender_counts.index, autopct='%1.1f%%', colors=colors)\n",
    "plt.title(\"Gender Distribution\")\n",
    "plt.show()"
   ]
  },
  {
   "cell_type": "markdown",
   "id": "3256f3f3-6a03-4301-be64-f280c9d81aff",
   "metadata": {},
   "source": [
    "#### Family"
   ]
  },
  {
   "cell_type": "code",
   "execution_count": 44,
   "id": "e3366e54-2666-4405-848d-ed931d637a34",
   "metadata": {},
   "outputs": [
    {
     "data": {
      "text/plain": [
       "2"
      ]
     },
     "execution_count": 44,
     "metadata": {},
     "output_type": "execute_result"
    }
   ],
   "source": [
    "titanic.family.isnull().sum()"
   ]
  },
  {
   "cell_type": "code",
   "execution_count": 46,
   "id": "e8f2ee70-e30b-49fd-b1fe-9d1dbfcf6104",
   "metadata": {},
   "outputs": [
    {
     "data": {
      "text/html": [
       "<div>\n",
       "<style scoped>\n",
       "    .dataframe tbody tr th:only-of-type {\n",
       "        vertical-align: middle;\n",
       "    }\n",
       "\n",
       "    .dataframe tbody tr th {\n",
       "        vertical-align: top;\n",
       "    }\n",
       "\n",
       "    .dataframe thead th {\n",
       "        text-align: right;\n",
       "    }\n",
       "</style>\n",
       "<table border=\"1\" class=\"dataframe\">\n",
       "  <thead>\n",
       "    <tr style=\"text-align: right;\">\n",
       "      <th></th>\n",
       "      <th>sn</th>\n",
       "      <th>pclass</th>\n",
       "      <th>survived</th>\n",
       "      <th>name</th>\n",
       "      <th>gender</th>\n",
       "      <th>age</th>\n",
       "      <th>family</th>\n",
       "      <th>fare</th>\n",
       "      <th>embarked</th>\n",
       "      <th>date</th>\n",
       "      <th>first_person</th>\n",
       "      <th>second_person</th>\n",
       "    </tr>\n",
       "  </thead>\n",
       "  <tbody>\n",
       "    <tr>\n",
       "      <th>579</th>\n",
       "      <td>579</td>\n",
       "      <td>1</td>\n",
       "      <td>1</td>\n",
       "      <td>Icard, Miss. Amelie</td>\n",
       "      <td>female</td>\n",
       "      <td>38</td>\n",
       "      <td>NaN</td>\n",
       "      <td>80</td>\n",
       "      <td>NaN</td>\n",
       "      <td>02-Aug-91</td>\n",
       "      <td>Icard</td>\n",
       "      <td>Miss. Amelie</td>\n",
       "    </tr>\n",
       "    <tr>\n",
       "      <th>1155</th>\n",
       "      <td>1155</td>\n",
       "      <td>1</td>\n",
       "      <td>1</td>\n",
       "      <td>Stone, Mrs. George Nelson (Martha Evelyn)</td>\n",
       "      <td>female</td>\n",
       "      <td>62</td>\n",
       "      <td>NaN</td>\n",
       "      <td>80</td>\n",
       "      <td>NaN</td>\n",
       "      <td>28-Feb-93</td>\n",
       "      <td>Stone</td>\n",
       "      <td>Mrs. George Nelson (Martha Evelyn)</td>\n",
       "    </tr>\n",
       "  </tbody>\n",
       "</table>\n",
       "</div>"
      ],
      "text/plain": [
       "0       sn pclass survived                                       name  gender  \\\n",
       "579    579      1        1                        Icard, Miss. Amelie  female   \n",
       "1155  1155      1        1  Stone, Mrs. George Nelson (Martha Evelyn)  female   \n",
       "\n",
       "0    age family fare embarked       date first_person  \\\n",
       "579   38    NaN   80      NaN  02-Aug-91        Icard   \n",
       "1155  62    NaN   80      NaN  28-Feb-93        Stone   \n",
       "\n",
       "0                          second_person  \n",
       "579                         Miss. Amelie  \n",
       "1155  Mrs. George Nelson (Martha Evelyn)  "
      ]
     },
     "execution_count": 46,
     "metadata": {},
     "output_type": "execute_result"
    }
   ],
   "source": [
    "titanic[titanic.family.isna()]"
   ]
  },
  {
   "cell_type": "code",
   "execution_count": 48,
   "id": "63ca138a-90b3-403d-bca7-4edf59824c16",
   "metadata": {},
   "outputs": [
    {
     "data": {
      "text/html": [
       "<div>\n",
       "<style scoped>\n",
       "    .dataframe tbody tr th:only-of-type {\n",
       "        vertical-align: middle;\n",
       "    }\n",
       "\n",
       "    .dataframe tbody tr th {\n",
       "        vertical-align: top;\n",
       "    }\n",
       "\n",
       "    .dataframe thead th {\n",
       "        text-align: right;\n",
       "    }\n",
       "</style>\n",
       "<table border=\"1\" class=\"dataframe\">\n",
       "  <thead>\n",
       "    <tr style=\"text-align: right;\">\n",
       "      <th></th>\n",
       "      <th>sn</th>\n",
       "      <th>pclass</th>\n",
       "      <th>survived</th>\n",
       "      <th>name</th>\n",
       "      <th>gender</th>\n",
       "      <th>age</th>\n",
       "      <th>family</th>\n",
       "      <th>fare</th>\n",
       "      <th>embarked</th>\n",
       "      <th>date</th>\n",
       "      <th>first_person</th>\n",
       "      <th>second_person</th>\n",
       "    </tr>\n",
       "  </thead>\n",
       "  <tbody>\n",
       "    <tr>\n",
       "      <th>579</th>\n",
       "      <td>579</td>\n",
       "      <td>1</td>\n",
       "      <td>1</td>\n",
       "      <td>Icard, Miss. Amelie</td>\n",
       "      <td>female</td>\n",
       "      <td>38</td>\n",
       "      <td>NaN</td>\n",
       "      <td>80</td>\n",
       "      <td>NaN</td>\n",
       "      <td>02-Aug-91</td>\n",
       "      <td>Icard</td>\n",
       "      <td>Miss. Amelie</td>\n",
       "    </tr>\n",
       "    <tr>\n",
       "      <th>1155</th>\n",
       "      <td>1155</td>\n",
       "      <td>1</td>\n",
       "      <td>1</td>\n",
       "      <td>Stone, Mrs. George Nelson (Martha Evelyn)</td>\n",
       "      <td>female</td>\n",
       "      <td>62</td>\n",
       "      <td>NaN</td>\n",
       "      <td>80</td>\n",
       "      <td>NaN</td>\n",
       "      <td>28-Feb-93</td>\n",
       "      <td>Stone</td>\n",
       "      <td>Mrs. George Nelson (Martha Evelyn)</td>\n",
       "    </tr>\n",
       "  </tbody>\n",
       "</table>\n",
       "</div>"
      ],
      "text/plain": [
       "0       sn pclass survived                                       name  gender  \\\n",
       "579    579      1        1                        Icard, Miss. Amelie  female   \n",
       "1155  1155      1        1  Stone, Mrs. George Nelson (Martha Evelyn)  female   \n",
       "\n",
       "0    age family fare embarked       date first_person  \\\n",
       "579   38    NaN   80      NaN  02-Aug-91        Icard   \n",
       "1155  62    NaN   80      NaN  28-Feb-93        Stone   \n",
       "\n",
       "0                          second_person  \n",
       "579                         Miss. Amelie  \n",
       "1155  Mrs. George Nelson (Martha Evelyn)  "
      ]
     },
     "execution_count": 48,
     "metadata": {},
     "output_type": "execute_result"
    }
   ],
   "source": [
    "titanic[titanic[\"name\"].isin(['Icard, Miss. Amelie', 'Stone, Mrs. George Nelson (Martha Evelyn)'])]"
   ]
  },
  {
   "cell_type": "code",
   "execution_count": 50,
   "id": "b04e3630-d4b8-4ce4-9d2e-ac15eaabc428",
   "metadata": {},
   "outputs": [
    {
     "data": {
      "text/plain": [
       "0"
      ]
     },
     "execution_count": 50,
     "metadata": {},
     "output_type": "execute_result"
    }
   ],
   "source": [
    "titanic = titanic.dropna(subset=[\"family\"])\n",
    "titanic.family.isnull().sum()"
   ]
  },
  {
   "cell_type": "markdown",
   "id": "bae7ac5a-1ebd-4bf7-bb94-d1d714a90adc",
   "metadata": {},
   "source": [
    "#### Fare"
   ]
  },
  {
   "cell_type": "code",
   "execution_count": 53,
   "id": "c5ad0560-d304-4610-9c94-4ef49591237a",
   "metadata": {},
   "outputs": [
    {
     "data": {
      "text/plain": [
       "2"
      ]
     },
     "execution_count": 53,
     "metadata": {},
     "output_type": "execute_result"
    }
   ],
   "source": [
    "titanic.fare.isnull().sum()"
   ]
  },
  {
   "cell_type": "code",
   "execution_count": 55,
   "id": "fb07f89a-86d5-42a7-8ecd-e830b7554f6b",
   "metadata": {},
   "outputs": [
    {
     "data": {
      "text/html": [
       "<div>\n",
       "<style scoped>\n",
       "    .dataframe tbody tr th:only-of-type {\n",
       "        vertical-align: middle;\n",
       "    }\n",
       "\n",
       "    .dataframe tbody tr th {\n",
       "        vertical-align: top;\n",
       "    }\n",
       "\n",
       "    .dataframe thead th {\n",
       "        text-align: right;\n",
       "    }\n",
       "</style>\n",
       "<table border=\"1\" class=\"dataframe\">\n",
       "  <thead>\n",
       "    <tr style=\"text-align: right;\">\n",
       "      <th></th>\n",
       "      <th>sn</th>\n",
       "      <th>pclass</th>\n",
       "      <th>survived</th>\n",
       "      <th>name</th>\n",
       "      <th>gender</th>\n",
       "      <th>age</th>\n",
       "      <th>family</th>\n",
       "      <th>fare</th>\n",
       "      <th>embarked</th>\n",
       "      <th>date</th>\n",
       "      <th>first_person</th>\n",
       "      <th>second_person</th>\n",
       "    </tr>\n",
       "  </thead>\n",
       "  <tbody>\n",
       "    <tr>\n",
       "      <th>814</th>\n",
       "      <td>814</td>\n",
       "      <td>3</td>\n",
       "      <td>1</td>\n",
       "      <td>Miss. Elizabeth</td>\n",
       "      <td>female</td>\n",
       "      <td>0.17</td>\n",
       "      <td>3</td>\n",
       "      <td>NaN</td>\n",
       "      <td>S</td>\n",
       "      <td>24-Mar-92</td>\n",
       "      <td>Miss. Elizabeth</td>\n",
       "      <td>None</td>\n",
       "    </tr>\n",
       "    <tr>\n",
       "      <th>1156</th>\n",
       "      <td>1156</td>\n",
       "      <td>3</td>\n",
       "      <td>0</td>\n",
       "      <td>Storey, Mr. Thomas</td>\n",
       "      <td>male</td>\n",
       "      <td>60.5</td>\n",
       "      <td>0</td>\n",
       "      <td>NaN</td>\n",
       "      <td>S</td>\n",
       "      <td>01-Mar-93</td>\n",
       "      <td>Storey</td>\n",
       "      <td>Mr. Thomas</td>\n",
       "    </tr>\n",
       "  </tbody>\n",
       "</table>\n",
       "</div>"
      ],
      "text/plain": [
       "0       sn pclass survived                name  gender   age family fare  \\\n",
       "814    814      3        1     Miss. Elizabeth  female  0.17      3  NaN   \n",
       "1156  1156      3        0  Storey, Mr. Thomas    male  60.5      0  NaN   \n",
       "\n",
       "0    embarked       date     first_person second_person  \n",
       "814         S  24-Mar-92  Miss. Elizabeth          None  \n",
       "1156        S  01-Mar-93           Storey    Mr. Thomas  "
      ]
     },
     "execution_count": 55,
     "metadata": {},
     "output_type": "execute_result"
    }
   ],
   "source": [
    "titanic[titanic.fare.isna()]"
   ]
  },
  {
   "cell_type": "code",
   "execution_count": 57,
   "id": "b0f5a265-fa89-4d5e-9c5b-b4f770d23fd2",
   "metadata": {},
   "outputs": [
    {
     "data": {
      "text/plain": [
       "0"
      ]
     },
     "execution_count": 57,
     "metadata": {},
     "output_type": "execute_result"
    }
   ],
   "source": [
    "titanic = titanic.dropna(subset=[\"fare\"])\n",
    "titanic.fare.isnull().sum()"
   ]
  },
  {
   "cell_type": "markdown",
   "id": "fc8a9f6c-37ca-4bb2-ab9d-b7768e6ae2d3",
   "metadata": {},
   "source": [
    "#### Embarked "
   ]
  },
  {
   "cell_type": "code",
   "execution_count": 60,
   "id": "d04b84db-ea82-4892-8b0e-d5cf5c62933b",
   "metadata": {},
   "outputs": [],
   "source": [
    "embarked_counts = titanic[\"embarked\"].value_counts()"
   ]
  },
  {
   "cell_type": "code",
   "execution_count": 62,
   "id": "b32d65a0-e8ce-40f1-961a-57b4127d1e54",
   "metadata": {},
   "outputs": [
    {
     "data": {
      "image/png": "[encoded data removed]",
      "text/plain": [
       "<Figure size 400x400 with 1 Axes>"
      ]
     },
     "metadata": {},
     "output_type": "display_data"
    }
   ],
   "source": [
    "plt.figure(figsize=(4, 4))\n",
    "colors = sns.color_palette(\"Set2\") \n",
    "plt.pie(embarked_counts, labels=embarked_counts.index, autopct='%1.1f%%', colors=colors)\n",
    "plt.title(\"Embarked Distribution\")\n",
    "plt.show()"
   ]
  },
  {
   "cell_type": "code",
   "execution_count": 64,
   "id": "61974bed-abde-4d34-8549-12b550165ad7",
   "metadata": {},
   "outputs": [],
   "source": [
    "titanic['embarked'] = titanic['embarked'].bfill()"
   ]
  },
  {
   "cell_type": "code",
   "execution_count": 66,
   "id": "814c668f-532d-4c1f-99e3-30b829a9813b",
   "metadata": {},
   "outputs": [
    {
     "data": {
      "text/plain": [
       "0"
      ]
     },
     "execution_count": 66,
     "metadata": {},
     "output_type": "execute_result"
    }
   ],
   "source": [
    "titanic.fare.isnull().sum()"
   ]
  },
  {
   "cell_type": "markdown",
   "id": "203c56b1-d1b7-43ef-8351-6b21e2d5663a",
   "metadata": {},
   "source": [
    "#### Age"
   ]
  },
  {
   "cell_type": "code",
   "execution_count": 69,
   "id": "b85774b0-d867-46b8-8ee4-701cb74d2318",
   "metadata": {},
   "outputs": [
    {
     "data": {
      "text/plain": [
       "256"
      ]
     },
     "execution_count": 69,
     "metadata": {},
     "output_type": "execute_result"
    }
   ],
   "source": [
    "titanic.age.isnull().sum()"
   ]
  },
  {
   "cell_type": "code",
   "execution_count": 71,
   "id": "c2a2fe34-c2c4-4624-bbf9-361ac237305b",
   "metadata": {},
   "outputs": [
    {
     "data": {
      "text/html": [
       "<div>\n",
       "<style scoped>\n",
       "    .dataframe tbody tr th:only-of-type {\n",
       "        vertical-align: middle;\n",
       "    }\n",
       "\n",
       "    .dataframe tbody tr th {\n",
       "        vertical-align: top;\n",
       "    }\n",
       "\n",
       "    .dataframe thead th {\n",
       "        text-align: right;\n",
       "    }\n",
       "</style>\n",
       "<table border=\"1\" class=\"dataframe\">\n",
       "  <thead>\n",
       "    <tr style=\"text-align: right;\">\n",
       "      <th></th>\n",
       "      <th>sn</th>\n",
       "      <th>pclass</th>\n",
       "      <th>survived</th>\n",
       "      <th>name</th>\n",
       "      <th>gender</th>\n",
       "      <th>age</th>\n",
       "      <th>family</th>\n",
       "      <th>fare</th>\n",
       "      <th>embarked</th>\n",
       "      <th>date</th>\n",
       "      <th>first_person</th>\n",
       "      <th>second_person</th>\n",
       "    </tr>\n",
       "  </thead>\n",
       "  <tbody>\n",
       "    <tr>\n",
       "      <th>2</th>\n",
       "      <td>2</td>\n",
       "      <td>3</td>\n",
       "      <td>0</td>\n",
       "      <td>Master. Eugene Joseph</td>\n",
       "      <td>male</td>\n",
       "      <td>?</td>\n",
       "      <td>2</td>\n",
       "      <td>20.25</td>\n",
       "      <td>S</td>\n",
       "      <td>02-Jan-90</td>\n",
       "      <td>Master. Eugene Joseph</td>\n",
       "      <td>None</td>\n",
       "    </tr>\n",
       "  </tbody>\n",
       "</table>\n",
       "</div>"
      ],
      "text/plain": [
       "0 sn pclass survived                   name gender age family   fare embarked  \\\n",
       "2  2      3        0  Master. Eugene Joseph   male   ?      2  20.25        S   \n",
       "\n",
       "0       date           first_person second_person  \n",
       "2  02-Jan-90  Master. Eugene Joseph          None  "
      ]
     },
     "execution_count": 71,
     "metadata": {},
     "output_type": "execute_result"
    }
   ],
   "source": [
    "titanic[titanic.age == '?']"
   ]
  },
  {
   "cell_type": "code",
   "execution_count": 73,
   "id": "37a8abf8-be5a-4a66-a1ae-e0c389d9a017",
   "metadata": {},
   "outputs": [],
   "source": [
    "titanic[\"age\"] = titanic[\"age\"].replace(\"?\", np.nan)"
   ]
  },
  {
   "cell_type": "code",
   "execution_count": 75,
   "id": "21e38fac-5011-48a8-aa62-b311cfd305d4",
   "metadata": {},
   "outputs": [],
   "source": [
    "titanic['age'] = titanic.age.astype('float').mean()"
   ]
  },
  {
   "cell_type": "code",
   "execution_count": 77,
   "id": "4fac5983-60f9-4258-9d8a-79b356aa34ad",
   "metadata": {},
   "outputs": [],
   "source": [
    "#Fill the missing value with mean of age\n",
    "titanic[\"age\"] = titanic[\"age\"].fillna(titanic[\"age\"].mean())"
   ]
  },
  {
   "cell_type": "code",
   "execution_count": 79,
   "id": "c5f3be9c-e2e7-4dbf-bb16-06137a99d650",
   "metadata": {},
   "outputs": [
    {
     "data": {
      "text/plain": [
       "0"
      ]
     },
     "execution_count": 79,
     "metadata": {},
     "output_type": "execute_result"
    }
   ],
   "source": [
    "titanic.age.isnull().sum()"
   ]
  },
  {
   "cell_type": "code",
   "execution_count": 81,
   "id": "8bf9b834-1164-4cbe-96f7-03874ad4a6c5",
   "metadata": {},
   "outputs": [
    {
     "data": {
      "text/plain": [
       "0\n",
       "sn               0\n",
       "pclass           0\n",
       "survived         0\n",
       "name             0\n",
       "gender           0\n",
       "age              0\n",
       "family           0\n",
       "fare             0\n",
       "embarked         0\n",
       "date             0\n",
       "first_person     0\n",
       "second_person    3\n",
       "dtype: int64"
      ]
     },
     "execution_count": 81,
     "metadata": {},
     "output_type": "execute_result"
    }
   ],
   "source": [
    "titanic.isnull().sum()"
   ]
  },
  {
   "cell_type": "markdown",
   "id": "1c212562-3cb4-4cc3-8a7f-b21df7cd7213",
   "metadata": {},
   "source": [
    "### Data Formating"
   ]
  },
  {
   "cell_type": "code",
   "execution_count": 84,
   "id": "ca5151d1-e7c6-4f1a-8360-d6b28412cd63",
   "metadata": {},
   "outputs": [
    {
     "data": {
      "text/html": [
       "<div>\n",
       "<style scoped>\n",
       "    .dataframe tbody tr th:only-of-type {\n",
       "        vertical-align: middle;\n",
       "    }\n",
       "\n",
       "    .dataframe tbody tr th {\n",
       "        vertical-align: top;\n",
       "    }\n",
       "\n",
       "    .dataframe thead th {\n",
       "        text-align: right;\n",
       "    }\n",
       "</style>\n",
       "<table border=\"1\" class=\"dataframe\">\n",
       "  <thead>\n",
       "    <tr style=\"text-align: right;\">\n",
       "      <th></th>\n",
       "      <th>sn</th>\n",
       "      <th>pclass</th>\n",
       "      <th>survived</th>\n",
       "      <th>name</th>\n",
       "      <th>gender</th>\n",
       "      <th>age</th>\n",
       "      <th>family</th>\n",
       "      <th>fare</th>\n",
       "      <th>embarked</th>\n",
       "      <th>date</th>\n",
       "      <th>first_person</th>\n",
       "      <th>second_person</th>\n",
       "    </tr>\n",
       "  </thead>\n",
       "  <tbody>\n",
       "    <tr>\n",
       "      <th>0</th>\n",
       "      <td>1</td>\n",
       "      <td>3</td>\n",
       "      <td>0</td>\n",
       "      <td>Mr. Anthony</td>\n",
       "      <td>male</td>\n",
       "      <td>29.939605</td>\n",
       "      <td>0</td>\n",
       "      <td>7.55</td>\n",
       "      <td>S</td>\n",
       "      <td>01-Jan-90</td>\n",
       "      <td>Mr. Anthony</td>\n",
       "      <td>None</td>\n",
       "    </tr>\n",
       "    <tr>\n",
       "      <th>1</th>\n",
       "      <td>1</td>\n",
       "      <td>3</td>\n",
       "      <td>0</td>\n",
       "      <td>Mr. Anthony</td>\n",
       "      <td>male</td>\n",
       "      <td>29.939605</td>\n",
       "      <td>0</td>\n",
       "      <td>7.55</td>\n",
       "      <td>S</td>\n",
       "      <td>01-Jan-90</td>\n",
       "      <td>Mr. Anthony</td>\n",
       "      <td>None</td>\n",
       "    </tr>\n",
       "    <tr>\n",
       "      <th>2</th>\n",
       "      <td>2</td>\n",
       "      <td>3</td>\n",
       "      <td>0</td>\n",
       "      <td>Master. Eugene Joseph</td>\n",
       "      <td>male</td>\n",
       "      <td>29.939605</td>\n",
       "      <td>2</td>\n",
       "      <td>20.25</td>\n",
       "      <td>S</td>\n",
       "      <td>02-Jan-90</td>\n",
       "      <td>Master. Eugene Joseph</td>\n",
       "      <td>None</td>\n",
       "    </tr>\n",
       "    <tr>\n",
       "      <th>4</th>\n",
       "      <td>4</td>\n",
       "      <td>3</td>\n",
       "      <td>1</td>\n",
       "      <td>Abbott, Mr. Rossmore Edward</td>\n",
       "      <td>female</td>\n",
       "      <td>29.939605</td>\n",
       "      <td>2</td>\n",
       "      <td>20.25</td>\n",
       "      <td>S</td>\n",
       "      <td>04-Jan-90</td>\n",
       "      <td>Abbott</td>\n",
       "      <td>Mr. Rossmore Edward</td>\n",
       "    </tr>\n",
       "    <tr>\n",
       "      <th>5</th>\n",
       "      <td>5</td>\n",
       "      <td>3</td>\n",
       "      <td>1</td>\n",
       "      <td>Abelseth, Miss. Karen Marie</td>\n",
       "      <td>female</td>\n",
       "      <td>29.939605</td>\n",
       "      <td>0</td>\n",
       "      <td>7.65</td>\n",
       "      <td>S</td>\n",
       "      <td>05-Jan-90</td>\n",
       "      <td>Abelseth</td>\n",
       "      <td>Miss. Karen Marie</td>\n",
       "    </tr>\n",
       "  </tbody>\n",
       "</table>\n",
       "</div>"
      ],
      "text/plain": [
       "0 sn pclass survived                         name  gender        age family  \\\n",
       "0  1      3        0                  Mr. Anthony    male  29.939605      0   \n",
       "1  1      3        0                  Mr. Anthony    male  29.939605      0   \n",
       "2  2      3        0        Master. Eugene Joseph    male  29.939605      2   \n",
       "4  4      3        1  Abbott, Mr. Rossmore Edward  female  29.939605      2   \n",
       "5  5      3        1  Abelseth, Miss. Karen Marie  female  29.939605      0   \n",
       "\n",
       "0   fare embarked       date           first_person        second_person  \n",
       "0   7.55        S  01-Jan-90            Mr. Anthony                 None  \n",
       "1   7.55        S  01-Jan-90            Mr. Anthony                 None  \n",
       "2  20.25        S  02-Jan-90  Master. Eugene Joseph                 None  \n",
       "4  20.25        S  04-Jan-90                 Abbott  Mr. Rossmore Edward  \n",
       "5   7.65        S  05-Jan-90               Abelseth    Miss. Karen Marie  "
      ]
     },
     "execution_count": 84,
     "metadata": {},
     "output_type": "execute_result"
    }
   ],
   "source": [
    "titanic.head()"
   ]
  },
  {
   "cell_type": "code",
   "execution_count": 86,
   "id": "25acb8e8-cde3-4545-803b-5072b2770959",
   "metadata": {},
   "outputs": [
    {
     "data": {
      "text/plain": [
       "0\n",
       "sn                object\n",
       "pclass            object\n",
       "survived          object\n",
       "name              object\n",
       "gender            object\n",
       "age              float64\n",
       "family            object\n",
       "fare              object\n",
       "embarked          object\n",
       "date              object\n",
       "first_person      object\n",
       "second_person     object\n",
       "dtype: object"
      ]
     },
     "execution_count": 86,
     "metadata": {},
     "output_type": "execute_result"
    }
   ],
   "source": [
    "titanic.dtypes"
   ]
  },
  {
   "cell_type": "code",
   "execution_count": 88,
   "id": "66e39248-7e11-4c09-809f-7d69b0672305",
   "metadata": {},
   "outputs": [],
   "source": [
    "titanic[['pclass', 'embarked']] = titanic[['pclass', 'embarked']].astype('category')"
   ]
  },
  {
   "cell_type": "code",
   "execution_count": 90,
   "id": "9e47760c-759f-49d7-9dee-00f333d460b2",
   "metadata": {},
   "outputs": [],
   "source": [
    "titanic['fare'] = titanic['fare'].astype('float')"
   ]
  },
  {
   "cell_type": "code",
   "execution_count": 92,
   "id": "d9c1cdc0-d149-459e-9f7b-b273b808dd73",
   "metadata": {},
   "outputs": [
    {
     "data": {
      "text/plain": [
       "0\n",
       "age               float64\n",
       "date               object\n",
       "embarked         category\n",
       "family             object\n",
       "fare              float64\n",
       "first_person       object\n",
       "gender             object\n",
       "name               object\n",
       "pclass           category\n",
       "second_person      object\n",
       "sn                 object\n",
       "survived           object\n",
       "dtype: object"
      ]
     },
     "execution_count": 92,
     "metadata": {},
     "output_type": "execute_result"
    }
   ],
   "source": [
    "titanic.dtypes.sort_index()"
   ]
  },
  {
   "cell_type": "code",
   "execution_count": 94,
   "id": "251d4e96-ba93-4004-b60f-db01f5b8e50a",
   "metadata": {},
   "outputs": [
    {
     "data": {
      "text/html": [
       "<div>\n",
       "<style scoped>\n",
       "    .dataframe tbody tr th:only-of-type {\n",
       "        vertical-align: middle;\n",
       "    }\n",
       "\n",
       "    .dataframe tbody tr th {\n",
       "        vertical-align: top;\n",
       "    }\n",
       "\n",
       "    .dataframe thead th {\n",
       "        text-align: right;\n",
       "    }\n",
       "</style>\n",
       "<table border=\"1\" class=\"dataframe\">\n",
       "  <thead>\n",
       "    <tr style=\"text-align: right;\">\n",
       "      <th></th>\n",
       "      <th>sn</th>\n",
       "      <th>pclass</th>\n",
       "      <th>survived</th>\n",
       "      <th>name</th>\n",
       "      <th>gender</th>\n",
       "      <th>age</th>\n",
       "      <th>family</th>\n",
       "      <th>fare</th>\n",
       "      <th>embarked</th>\n",
       "      <th>date</th>\n",
       "      <th>first_person</th>\n",
       "      <th>second_person</th>\n",
       "    </tr>\n",
       "  </thead>\n",
       "  <tbody>\n",
       "    <tr>\n",
       "      <th>0</th>\n",
       "      <td>1</td>\n",
       "      <td>3</td>\n",
       "      <td>0</td>\n",
       "      <td>Mr. Anthony</td>\n",
       "      <td>male</td>\n",
       "      <td>29.939605</td>\n",
       "      <td>0</td>\n",
       "      <td>7.5500</td>\n",
       "      <td>S</td>\n",
       "      <td>01-Jan-90</td>\n",
       "      <td>Mr. Anthony</td>\n",
       "      <td>None</td>\n",
       "    </tr>\n",
       "    <tr>\n",
       "      <th>1</th>\n",
       "      <td>1</td>\n",
       "      <td>3</td>\n",
       "      <td>0</td>\n",
       "      <td>Mr. Anthony</td>\n",
       "      <td>male</td>\n",
       "      <td>29.939605</td>\n",
       "      <td>0</td>\n",
       "      <td>7.5500</td>\n",
       "      <td>S</td>\n",
       "      <td>01-Jan-90</td>\n",
       "      <td>Mr. Anthony</td>\n",
       "      <td>None</td>\n",
       "    </tr>\n",
       "    <tr>\n",
       "      <th>2</th>\n",
       "      <td>2</td>\n",
       "      <td>3</td>\n",
       "      <td>0</td>\n",
       "      <td>Master. Eugene Joseph</td>\n",
       "      <td>male</td>\n",
       "      <td>29.939605</td>\n",
       "      <td>2</td>\n",
       "      <td>20.2500</td>\n",
       "      <td>S</td>\n",
       "      <td>02-Jan-90</td>\n",
       "      <td>Master. Eugene Joseph</td>\n",
       "      <td>None</td>\n",
       "    </tr>\n",
       "    <tr>\n",
       "      <th>4</th>\n",
       "      <td>4</td>\n",
       "      <td>3</td>\n",
       "      <td>1</td>\n",
       "      <td>Abbott, Mr. Rossmore Edward</td>\n",
       "      <td>female</td>\n",
       "      <td>29.939605</td>\n",
       "      <td>2</td>\n",
       "      <td>20.2500</td>\n",
       "      <td>S</td>\n",
       "      <td>04-Jan-90</td>\n",
       "      <td>Abbott</td>\n",
       "      <td>Mr. Rossmore Edward</td>\n",
       "    </tr>\n",
       "    <tr>\n",
       "      <th>5</th>\n",
       "      <td>5</td>\n",
       "      <td>3</td>\n",
       "      <td>1</td>\n",
       "      <td>Abelseth, Miss. Karen Marie</td>\n",
       "      <td>female</td>\n",
       "      <td>29.939605</td>\n",
       "      <td>0</td>\n",
       "      <td>7.6500</td>\n",
       "      <td>S</td>\n",
       "      <td>05-Jan-90</td>\n",
       "      <td>Abelseth</td>\n",
       "      <td>Miss. Karen Marie</td>\n",
       "    </tr>\n",
       "    <tr>\n",
       "      <th>6</th>\n",
       "      <td>6</td>\n",
       "      <td>3</td>\n",
       "      <td>1</td>\n",
       "      <td>Abelseth, Mr. Olaus Jorgensen</td>\n",
       "      <td>male</td>\n",
       "      <td>29.939605</td>\n",
       "      <td>0</td>\n",
       "      <td>7.6500</td>\n",
       "      <td>S</td>\n",
       "      <td>06-Jan-90</td>\n",
       "      <td>Abelseth</td>\n",
       "      <td>Mr. Olaus Jorgensen</td>\n",
       "    </tr>\n",
       "    <tr>\n",
       "      <th>7</th>\n",
       "      <td>7</td>\n",
       "      <td>2</td>\n",
       "      <td>0</td>\n",
       "      <td>Abelson, Mr. Samuel</td>\n",
       "      <td>male</td>\n",
       "      <td>29.939605</td>\n",
       "      <td>1</td>\n",
       "      <td>24.0000</td>\n",
       "      <td>C</td>\n",
       "      <td>07-Jan-90</td>\n",
       "      <td>Abelson</td>\n",
       "      <td>Mr. Samuel</td>\n",
       "    </tr>\n",
       "    <tr>\n",
       "      <th>8</th>\n",
       "      <td>8</td>\n",
       "      <td>2</td>\n",
       "      <td>1</td>\n",
       "      <td>Abelson, Mrs. Samuel (Hannah Wizosky)</td>\n",
       "      <td>female</td>\n",
       "      <td>29.939605</td>\n",
       "      <td>1</td>\n",
       "      <td>24.0000</td>\n",
       "      <td>C</td>\n",
       "      <td>08-Jan-90</td>\n",
       "      <td>Abelson</td>\n",
       "      <td>Mrs. Samuel (Hannah Wizosky)</td>\n",
       "    </tr>\n",
       "    <tr>\n",
       "      <th>9</th>\n",
       "      <td>9</td>\n",
       "      <td>3</td>\n",
       "      <td>1</td>\n",
       "      <td>Abrahamsson, Mr. Abraham August Johannes</td>\n",
       "      <td>male</td>\n",
       "      <td>29.939605</td>\n",
       "      <td>0</td>\n",
       "      <td>7.9250</td>\n",
       "      <td>S</td>\n",
       "      <td>09-Jan-90</td>\n",
       "      <td>Abrahamsson</td>\n",
       "      <td>Mr. Abraham August Johannes</td>\n",
       "    </tr>\n",
       "    <tr>\n",
       "      <th>10</th>\n",
       "      <td>10</td>\n",
       "      <td>3</td>\n",
       "      <td>1</td>\n",
       "      <td>Abrahim, Mrs. Joseph (Sophie Halaut Easu)</td>\n",
       "      <td>female</td>\n",
       "      <td>29.939605</td>\n",
       "      <td>0</td>\n",
       "      <td>7.2292</td>\n",
       "      <td>C</td>\n",
       "      <td>10-Jan-90</td>\n",
       "      <td>Abrahim</td>\n",
       "      <td>Mrs. Joseph (Sophie Halaut Easu)</td>\n",
       "    </tr>\n",
       "  </tbody>\n",
       "</table>\n",
       "</div>"
      ],
      "text/plain": [
       "0   sn pclass survived                                       name  gender  \\\n",
       "0    1      3        0                                Mr. Anthony    male   \n",
       "1    1      3        0                                Mr. Anthony    male   \n",
       "2    2      3        0                      Master. Eugene Joseph    male   \n",
       "4    4      3        1                Abbott, Mr. Rossmore Edward  female   \n",
       "5    5      3        1                Abelseth, Miss. Karen Marie  female   \n",
       "6    6      3        1              Abelseth, Mr. Olaus Jorgensen    male   \n",
       "7    7      2        0                        Abelson, Mr. Samuel    male   \n",
       "8    8      2        1      Abelson, Mrs. Samuel (Hannah Wizosky)  female   \n",
       "9    9      3        1   Abrahamsson, Mr. Abraham August Johannes    male   \n",
       "10  10      3        1  Abrahim, Mrs. Joseph (Sophie Halaut Easu)  female   \n",
       "\n",
       "0         age family     fare embarked       date           first_person  \\\n",
       "0   29.939605      0   7.5500        S  01-Jan-90            Mr. Anthony   \n",
       "1   29.939605      0   7.5500        S  01-Jan-90            Mr. Anthony   \n",
       "2   29.939605      2  20.2500        S  02-Jan-90  Master. Eugene Joseph   \n",
       "4   29.939605      2  20.2500        S  04-Jan-90                 Abbott   \n",
       "5   29.939605      0   7.6500        S  05-Jan-90               Abelseth   \n",
       "6   29.939605      0   7.6500        S  06-Jan-90               Abelseth   \n",
       "7   29.939605      1  24.0000        C  07-Jan-90                Abelson   \n",
       "8   29.939605      1  24.0000        C  08-Jan-90                Abelson   \n",
       "9   29.939605      0   7.9250        S  09-Jan-90            Abrahamsson   \n",
       "10  29.939605      0   7.2292        C  10-Jan-90                Abrahim   \n",
       "\n",
       "0                      second_person  \n",
       "0                               None  \n",
       "1                               None  \n",
       "2                               None  \n",
       "4                Mr. Rossmore Edward  \n",
       "5                  Miss. Karen Marie  \n",
       "6                Mr. Olaus Jorgensen  \n",
       "7                         Mr. Samuel  \n",
       "8       Mrs. Samuel (Hannah Wizosky)  \n",
       "9        Mr. Abraham August Johannes  \n",
       "10  Mrs. Joseph (Sophie Halaut Easu)  "
      ]
     },
     "execution_count": 94,
     "metadata": {},
     "output_type": "execute_result"
    }
   ],
   "source": [
    "titanic.head(10)"
   ]
  },
  {
   "cell_type": "markdown",
   "id": "7a8220f5-f937-4b8f-935a-363df7ded13e",
   "metadata": {},
   "source": [
    "### Data Normalization"
   ]
  },
  {
   "cell_type": "code",
   "execution_count": 97,
   "id": "5cd94e3a-9ce2-4744-a145-fbe35ff9752d",
   "metadata": {},
   "outputs": [
    {
     "data": {
      "text/html": [
       "<div>\n",
       "<style scoped>\n",
       "    .dataframe tbody tr th:only-of-type {\n",
       "        vertical-align: middle;\n",
       "    }\n",
       "\n",
       "    .dataframe tbody tr th {\n",
       "        vertical-align: top;\n",
       "    }\n",
       "\n",
       "    .dataframe thead th {\n",
       "        text-align: right;\n",
       "    }\n",
       "</style>\n",
       "<table border=\"1\" class=\"dataframe\">\n",
       "  <thead>\n",
       "    <tr style=\"text-align: right;\">\n",
       "      <th></th>\n",
       "      <th>age</th>\n",
       "      <th>fare</th>\n",
       "    </tr>\n",
       "  </thead>\n",
       "  <tbody>\n",
       "    <tr>\n",
       "      <th>count</th>\n",
       "      <td>1.296000e+03</td>\n",
       "      <td>1296.000000</td>\n",
       "    </tr>\n",
       "    <tr>\n",
       "      <th>mean</th>\n",
       "      <td>2.993961e+01</td>\n",
       "      <td>33.390364</td>\n",
       "    </tr>\n",
       "    <tr>\n",
       "      <th>std</th>\n",
       "      <td>3.731789e-13</td>\n",
       "      <td>51.928704</td>\n",
       "    </tr>\n",
       "    <tr>\n",
       "      <th>min</th>\n",
       "      <td>2.993961e+01</td>\n",
       "      <td>0.000000</td>\n",
       "    </tr>\n",
       "    <tr>\n",
       "      <th>25%</th>\n",
       "      <td>2.993961e+01</td>\n",
       "      <td>7.895800</td>\n",
       "    </tr>\n",
       "    <tr>\n",
       "      <th>50%</th>\n",
       "      <td>2.993961e+01</td>\n",
       "      <td>14.454200</td>\n",
       "    </tr>\n",
       "    <tr>\n",
       "      <th>75%</th>\n",
       "      <td>2.993961e+01</td>\n",
       "      <td>31.275000</td>\n",
       "    </tr>\n",
       "    <tr>\n",
       "      <th>max</th>\n",
       "      <td>2.993961e+01</td>\n",
       "      <td>512.329200</td>\n",
       "    </tr>\n",
       "  </tbody>\n",
       "</table>\n",
       "</div>"
      ],
      "text/plain": [
       "0               age         fare\n",
       "count  1.296000e+03  1296.000000\n",
       "mean   2.993961e+01    33.390364\n",
       "std    3.731789e-13    51.928704\n",
       "min    2.993961e+01     0.000000\n",
       "25%    2.993961e+01     7.895800\n",
       "50%    2.993961e+01    14.454200\n",
       "75%    2.993961e+01    31.275000\n",
       "max    2.993961e+01   512.329200"
      ]
     },
     "execution_count": 97,
     "metadata": {},
     "output_type": "execute_result"
    }
   ],
   "source": [
    "titanic.describe()"
   ]
  },
  {
   "cell_type": "code",
   "execution_count": 99,
   "id": "6f851a41-07c6-43cd-9e4e-40e0a2b69317",
   "metadata": {},
   "outputs": [
    {
     "data": {
      "text/html": [
       "<div>\n",
       "<style scoped>\n",
       "    .dataframe tbody tr th:only-of-type {\n",
       "        vertical-align: middle;\n",
       "    }\n",
       "\n",
       "    .dataframe tbody tr th {\n",
       "        vertical-align: top;\n",
       "    }\n",
       "\n",
       "    .dataframe thead th {\n",
       "        text-align: right;\n",
       "    }\n",
       "</style>\n",
       "<table border=\"1\" class=\"dataframe\">\n",
       "  <thead>\n",
       "    <tr style=\"text-align: right;\">\n",
       "      <th></th>\n",
       "      <th>sn</th>\n",
       "      <th>pclass</th>\n",
       "      <th>survived</th>\n",
       "      <th>name</th>\n",
       "      <th>gender</th>\n",
       "      <th>age</th>\n",
       "      <th>family</th>\n",
       "      <th>fare</th>\n",
       "      <th>embarked</th>\n",
       "      <th>date</th>\n",
       "      <th>first_person</th>\n",
       "      <th>second_person</th>\n",
       "    </tr>\n",
       "  </thead>\n",
       "  <tbody>\n",
       "    <tr>\n",
       "      <th>0</th>\n",
       "      <td>1</td>\n",
       "      <td>3</td>\n",
       "      <td>0</td>\n",
       "      <td>Mr. Anthony</td>\n",
       "      <td>male</td>\n",
       "      <td>0.0</td>\n",
       "      <td>0</td>\n",
       "      <td>0.014737</td>\n",
       "      <td>S</td>\n",
       "      <td>01-Jan-90</td>\n",
       "      <td>Mr. Anthony</td>\n",
       "      <td>None</td>\n",
       "    </tr>\n",
       "    <tr>\n",
       "      <th>1</th>\n",
       "      <td>1</td>\n",
       "      <td>3</td>\n",
       "      <td>0</td>\n",
       "      <td>Mr. Anthony</td>\n",
       "      <td>male</td>\n",
       "      <td>0.0</td>\n",
       "      <td>0</td>\n",
       "      <td>0.014737</td>\n",
       "      <td>S</td>\n",
       "      <td>01-Jan-90</td>\n",
       "      <td>Mr. Anthony</td>\n",
       "      <td>None</td>\n",
       "    </tr>\n",
       "    <tr>\n",
       "      <th>2</th>\n",
       "      <td>2</td>\n",
       "      <td>3</td>\n",
       "      <td>0</td>\n",
       "      <td>Master. Eugene Joseph</td>\n",
       "      <td>male</td>\n",
       "      <td>0.0</td>\n",
       "      <td>2</td>\n",
       "      <td>0.039525</td>\n",
       "      <td>S</td>\n",
       "      <td>02-Jan-90</td>\n",
       "      <td>Master. Eugene Joseph</td>\n",
       "      <td>None</td>\n",
       "    </tr>\n",
       "    <tr>\n",
       "      <th>4</th>\n",
       "      <td>4</td>\n",
       "      <td>3</td>\n",
       "      <td>1</td>\n",
       "      <td>Abbott, Mr. Rossmore Edward</td>\n",
       "      <td>female</td>\n",
       "      <td>0.0</td>\n",
       "      <td>2</td>\n",
       "      <td>0.039525</td>\n",
       "      <td>S</td>\n",
       "      <td>04-Jan-90</td>\n",
       "      <td>Abbott</td>\n",
       "      <td>Mr. Rossmore Edward</td>\n",
       "    </tr>\n",
       "    <tr>\n",
       "      <th>5</th>\n",
       "      <td>5</td>\n",
       "      <td>3</td>\n",
       "      <td>1</td>\n",
       "      <td>Abelseth, Miss. Karen Marie</td>\n",
       "      <td>female</td>\n",
       "      <td>0.0</td>\n",
       "      <td>0</td>\n",
       "      <td>0.014932</td>\n",
       "      <td>S</td>\n",
       "      <td>05-Jan-90</td>\n",
       "      <td>Abelseth</td>\n",
       "      <td>Miss. Karen Marie</td>\n",
       "    </tr>\n",
       "  </tbody>\n",
       "</table>\n",
       "</div>"
      ],
      "text/plain": [
       "0 sn pclass survived                         name  gender  age family  \\\n",
       "0  1      3        0                  Mr. Anthony    male  0.0      0   \n",
       "1  1      3        0                  Mr. Anthony    male  0.0      0   \n",
       "2  2      3        0        Master. Eugene Joseph    male  0.0      2   \n",
       "4  4      3        1  Abbott, Mr. Rossmore Edward  female  0.0      2   \n",
       "5  5      3        1  Abelseth, Miss. Karen Marie  female  0.0      0   \n",
       "\n",
       "0      fare embarked       date           first_person        second_person  \n",
       "0  0.014737        S  01-Jan-90            Mr. Anthony                 None  \n",
       "1  0.014737        S  01-Jan-90            Mr. Anthony                 None  \n",
       "2  0.039525        S  02-Jan-90  Master. Eugene Joseph                 None  \n",
       "4  0.039525        S  04-Jan-90                 Abbott  Mr. Rossmore Edward  \n",
       "5  0.014932        S  05-Jan-90               Abelseth    Miss. Karen Marie  "
      ]
     },
     "execution_count": 99,
     "metadata": {},
     "output_type": "execute_result"
    }
   ],
   "source": [
    "scaler = MinMaxScaler()\n",
    "titanic[['fare', 'age']] = scaler.fit_transform(titanic[['fare', 'age']])\n",
    "titanic.head()"
   ]
  },
  {
   "cell_type": "code",
   "execution_count": 101,
   "id": "c6383e71-f56d-4ec0-a892-85669bfda79f",
   "metadata": {},
   "outputs": [
    {
     "data": {
      "image/png": "[encoded data removed]",
      "text/plain": [
       "<Figure size 500x300 with 1 Axes>"
      ]
     },
     "metadata": {},
     "output_type": "display_data"
    }
   ],
   "source": [
    "plt.figure(figsize=(5, 3))\n",
    "sns.histplot(titanic['age'], bins=20, kde=True)\n",
    "plt.title('Age Distribution')\n",
    "plt.show()"
   ]
  },
  {
   "cell_type": "code",
   "execution_count": 109,
   "id": "5ec9315d-c49c-4283-a48e-374e2838de06",
   "metadata": {},
   "outputs": [
    {
     "name": "stderr",
     "output_type": "stream",
     "text": [
      "/var/folders/2x/6fsw7m312dz672_tnvybw_q00000gn/T/ipykernel_14771/3795544699.py:10: UserWarning: No artists with labels found to put in legend.  Note that artists whose label start with an underscore are ignored when legend() is called with no argument.\n",
      "  axes[i].legend()\n",
      "/var/folders/2x/6fsw7m312dz672_tnvybw_q00000gn/T/ipykernel_14771/3795544699.py:10: UserWarning: No artists with labels found to put in legend.  Note that artists whose label start with an underscore are ignored when legend() is called with no argument.\n",
      "  axes[i].legend()\n"
     ]
    },
    {
     "data": {
      "image/png": "[encoded data removed]",
      "text/plain": [
       "<Figure size 1600x800 with 2 Axes>"
      ]
     },
     "metadata": {},
     "output_type": "display_data"
    }
   ],
   "source": [
    "fig, axes = plt.subplots(1, 2, figsize=(16, 8))\n",
    "\n",
    "# Loop untuk gender (female dan male)\n",
    "for i, gender in enumerate(['female', 'male']):\n",
    "    data = titanic[titanic['gender'] == gender]\n",
    "    \n",
    "    sns.histplot(data[data['survived'] == 1]['age'].dropna(), bins=18, label='Survived', ax=axes[i], color=\"green\", kde=False)\n",
    "    sns.histplot(data[data['survived'] == 0]['age'].dropna(), bins=40, label='Not Survived', ax=axes[i], color=\"red\", kde=False)\n",
    "\n",
    "    axes[i].legend()\n",
    "    axes[i].set_title(gender.capitalize())\n",
    "\n",
    "plt.show()\n"
   ]
  },
  {
   "cell_type": "code",
   "execution_count": 181,
   "id": "6e383827-fed9-449d-af3b-5b1457db1af6",
   "metadata": {},
   "outputs": [
    {
     "data": {
      "image/png": "[encoded data removed]",
      "text/plain": [
       "<Figure size 640x480 with 1 Axes>"
      ]
     },
     "metadata": {},
     "output_type": "display_data"
    }
   ],
   "source": [
    "sns.histplot(titanic['fare'], bins=20, kde=True)\n",
    "plt.title('Fare Distribution')\n",
    "plt.show()"
   ]
  },
  {
   "cell_type": "code",
   "execution_count": 187,
   "id": "35b57221-753c-4697-b42f-2a48d2a72a88",
   "metadata": {},
   "outputs": [
    {
     "data": {
      "image/png": "[encoded data removed]",
      "text/plain": [
       "<Figure size 640x480 with 2 Axes>"
      ]
     },
     "metadata": {},
     "output_type": "display_data"
    }
   ],
   "source": [
    "titanic_numeric = titanic.select_dtypes(include=['int64', 'float64'])\n",
    "sns.heatmap(titanic_numeric.corr(), annot=True, cmap='coolwarm')\n",
    "plt.title('Correlation Heatmap')\n",
    "plt.show()"
   ]
  },
  {
   "cell_type": "code",
   "execution_count": 192,
   "id": "13bb8de3-423f-490d-af9d-548858119801",
   "metadata": {},
   "outputs": [
    {
     "data": {
      "text/html": [
       "<div>\n",
       "<style scoped>\n",
       "    .dataframe tbody tr th:only-of-type {\n",
       "        vertical-align: middle;\n",
       "    }\n",
       "\n",
       "    .dataframe tbody tr th {\n",
       "        vertical-align: top;\n",
       "    }\n",
       "\n",
       "    .dataframe thead th {\n",
       "        text-align: right;\n",
       "    }\n",
       "</style>\n",
       "<table border=\"1\" class=\"dataframe\">\n",
       "  <thead>\n",
       "    <tr style=\"text-align: right;\">\n",
       "      <th></th>\n",
       "      <th>age</th>\n",
       "      <th>fare</th>\n",
       "    </tr>\n",
       "    <tr>\n",
       "      <th>0</th>\n",
       "      <th></th>\n",
       "      <th></th>\n",
       "    </tr>\n",
       "  </thead>\n",
       "  <tbody>\n",
       "    <tr>\n",
       "      <th>age</th>\n",
       "      <td>NaN</td>\n",
       "      <td>NaN</td>\n",
       "    </tr>\n",
       "    <tr>\n",
       "      <th>fare</th>\n",
       "      <td>NaN</td>\n",
       "      <td>1.0</td>\n",
       "    </tr>\n",
       "  </tbody>\n",
       "</table>\n",
       "</div>"
      ],
      "text/plain": [
       "0     age  fare\n",
       "0              \n",
       "age   NaN   NaN\n",
       "fare  NaN   1.0"
      ]
     },
     "execution_count": 192,
     "metadata": {},
     "output_type": "execute_result"
    }
   ],
   "source": [
    "titanic[['age', 'fare']].corr()"
   ]
  }
 ],
 "metadata": {
  "kernelspec": {
   "display_name": "Python [conda env:base] *",
   "language": "python",
   "name": "conda-base-py"
  },
  "language_info": {
   "codemirror_mode": {
    "name": "ipython",
    "version": 3
   },
   "file_extension": ".py",
   "mimetype": "text/x-python",
   "name": "python",
   "nbconvert_exporter": "python",
   "pygments_lexer": "ipython3",
   "version": "3.12.7"
  }
 },
 "nbformat": 4,
 "nbformat_minor": 5
}
